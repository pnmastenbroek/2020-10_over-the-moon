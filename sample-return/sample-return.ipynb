{
 "metadata": {
  "language_info": {
   "codemirror_mode": {
    "name": "ipython",
    "version": 3
   },
   "file_extension": ".py",
   "mimetype": "text/x-python",
   "name": "python",
   "nbconvert_exporter": "python",
   "pygments_lexer": "ipython3",
   "version": "3.7.1-final"
  },
  "orig_nbformat": 2,
  "kernelspec": {
   "name": "python3",
   "display_name": "Python 3"
  }
 },
 "nbformat": 4,
 "nbformat_minor": 2,
 "cells": [
  {
   "cell_type": "code",
   "execution_count": 1,
   "metadata": {},
   "outputs": [],
   "source": [
    "import pandas as pd \n",
    "\n",
    "rock_samples = pd.read_csv('data/rocksamples.csv')"
   ]
  },
  {
   "cell_type": "code",
   "execution_count": 2,
   "metadata": {},
   "outputs": [
    {
     "output_type": "execute_result",
     "data": {
      "text/plain": [
       "      ID   Mission    Type   Subtype  Weight(g)  Pristine(%)\n",
       "0  10001  Apollo11    Soil  Unsieved      125.8        88.36\n",
       "1  10002  Apollo11    Soil  Unsieved     5629.0        93.73\n",
       "2  10003  Apollo11  Basalt  Ilmenite      213.0        65.56\n",
       "3  10004  Apollo11    Core  Unsieved       44.8        71.76\n",
       "4  10005  Apollo11    Core  Unsieved       53.4        40.31"
      ],
      "text/html": "<div>\n<style scoped>\n    .dataframe tbody tr th:only-of-type {\n        vertical-align: middle;\n    }\n\n    .dataframe tbody tr th {\n        vertical-align: top;\n    }\n\n    .dataframe thead th {\n        text-align: right;\n    }\n</style>\n<table border=\"1\" class=\"dataframe\">\n  <thead>\n    <tr style=\"text-align: right;\">\n      <th></th>\n      <th>ID</th>\n      <th>Mission</th>\n      <th>Type</th>\n      <th>Subtype</th>\n      <th>Weight(g)</th>\n      <th>Pristine(%)</th>\n    </tr>\n  </thead>\n  <tbody>\n    <tr>\n      <th>0</th>\n      <td>10001</td>\n      <td>Apollo11</td>\n      <td>Soil</td>\n      <td>Unsieved</td>\n      <td>125.8</td>\n      <td>88.36</td>\n    </tr>\n    <tr>\n      <th>1</th>\n      <td>10002</td>\n      <td>Apollo11</td>\n      <td>Soil</td>\n      <td>Unsieved</td>\n      <td>5629.0</td>\n      <td>93.73</td>\n    </tr>\n    <tr>\n      <th>2</th>\n      <td>10003</td>\n      <td>Apollo11</td>\n      <td>Basalt</td>\n      <td>Ilmenite</td>\n      <td>213.0</td>\n      <td>65.56</td>\n    </tr>\n    <tr>\n      <th>3</th>\n      <td>10004</td>\n      <td>Apollo11</td>\n      <td>Core</td>\n      <td>Unsieved</td>\n      <td>44.8</td>\n      <td>71.76</td>\n    </tr>\n    <tr>\n      <th>4</th>\n      <td>10005</td>\n      <td>Apollo11</td>\n      <td>Core</td>\n      <td>Unsieved</td>\n      <td>53.4</td>\n      <td>40.31</td>\n    </tr>\n  </tbody>\n</table>\n</div>"
     },
     "metadata": {},
     "execution_count": 2
    }
   ],
   "source": [
    "rock_samples.head()"
   ]
  },
  {
   "cell_type": "code",
   "execution_count": 3,
   "metadata": {},
   "outputs": [
    {
     "output_type": "stream",
     "name": "stdout",
     "text": [
      "<class 'pandas.core.frame.DataFrame'>\nRangeIndex: 2229 entries, 0 to 2228\nData columns (total 6 columns):\nID             2229 non-null int64\nMission        2229 non-null object\nType           2229 non-null object\nSubtype        2226 non-null object\nWeight(g)      2229 non-null float64\nPristine(%)    2229 non-null float64\ndtypes: float64(2), int64(1), object(3)\nmemory usage: 104.6+ KB\n"
     ]
    }
   ],
   "source": [
    "rock_samples.info()"
   ]
  },
  {
   "cell_type": "code",
   "execution_count": null,
   "metadata": {},
   "outputs": [],
   "source": []
  }
 ]
}